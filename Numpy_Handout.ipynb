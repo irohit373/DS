{
  "cells": [
    {
      "cell_type": "markdown",
      "metadata": {
        "id": "view-in-github",
        "colab_type": "text"
      },
      "source": [
        "<a href=\"https://colab.research.google.com/github/irohit373/DS/blob/main/Numpy_Handout.ipynb\" target=\"_parent\"><img src=\"https://colab.research.google.com/assets/colab-badge.svg\" alt=\"Open In Colab\"/></a>"
      ]
    },
    {
      "cell_type": "markdown",
      "metadata": {
        "id": "Ngc51wT7u402"
      },
      "source": [
        "# <font color='orange'>NumPy</font>\n",
        "\n",
        "NumPy is a fundamental package for scientific computing in Python, adding support for large, multi-dimensional arrays and matrices, along with a large collection of high-level mathematical functions to operate on these arrays.\n",
        "\n",
        "Numpy is also incredibly fast, as it has bindings to C libraries. For more info on why you would want to use Arrays instead of lists, check out this great [StackOverflow post](http://stackoverflow.com/questions/993984/why-numpy-instead-of-python-lists).\n",
        "\n",
        "Important differences between NumPy arrays and the standard Python sequences:<br>\n",
        "* NumPy arrays have a fixed size at creation, unlike Python lists (which can grow dynamically). Changing the size\n",
        "of an ndarray will create a new array and delete the original.\n",
        "* The elements in a NumPy array are all required to be of the same data type, and thus will be the same size in\n",
        "memory. The exception: one can have arrays of (Python, including NumPy) objects, thereby allowing for arrays\n",
        "of different sized elements.\n",
        "* NumPy arrays facilitate advanced mathematical and other types of operations on large numbers of data. Typically,\n",
        "such operations are executed more efficiently and with less code than is possible using Python’s built-in sequences."
      ]
    },
    {
      "cell_type": "markdown",
      "metadata": {
        "id": "in9VwjfWQxJ7"
      },
      "source": [
        "# <font color='orange'>Why is NumPy Fast?</font>\n",
        "\n",
        "Vectorization describes the absence of any explicit looping, indexing, etc., in the code - these things are taking place, of\n",
        "course, just “behind the scenes” in optimized, pre-compiled C code. Vectorized code has many advantages, among which\n",
        "are:\n",
        "* vectorized code is more concise and easier to read\n",
        "* fewer lines of code generally means fewer bugs\n",
        "* the code more closely resembles standard mathematical notation (making it easier, typically, to correctly code\n",
        "mathematical constructs)\n",
        "* vectorization results in more “Pythonic” code. Without vectorization, our code would be littered with inefficient\n",
        "and difficult to read for loops.\n",
        "\n",
        "We will only learn the basics of NumPy, to get started we need to install it!"
      ]
    },
    {
      "cell_type": "markdown",
      "metadata": {
        "id": "k184-Dhiu406"
      },
      "source": [
        "## <font color='orange'>Installation Instructions</font>\n",
        "\n",
        "**It is highly recommended you install Python using the Anaconda distribution to make sure all underlying dependencies (such as Linear Algebra libraries) all sync up with the use of a conda install. If you have Anaconda, install NumPy by going to your terminal or command prompt and typing:**\n",
        "    \n",
        "    conda install numpy\n",
        "\n",
        "**If you wish to install NumPY using pip, then use the following command:**\n",
        "\n",
        "    pip install numpy\n",
        "\n",
        "**Also when using pip, it’s good practice to use a virtual environment.**"
      ]
    },
    {
      "cell_type": "markdown",
      "metadata": {
        "id": "cEBMSSqiu407"
      },
      "source": [
        "## <font color='orange'> Using NumPy</font>\n",
        "\n",
        "Once you've installed NumPy you can import it as a library:"
      ]
    },
    {
      "cell_type": "code",
      "execution_count": null,
      "metadata": {
        "id": "EoSG2FFxu408"
      },
      "outputs": [],
      "source": [
        "import numpy as np"
      ]
    },
    {
      "cell_type": "code",
      "source": [
        "jaggi.ones(3)"
      ],
      "metadata": {
        "colab": {
          "base_uri": "https://localhost:8080/"
        },
        "id": "1ubNefmNv4kx",
        "outputId": "08f59d5f-1867-4b03-800a-37424c7dbe3f"
      },
      "execution_count": null,
      "outputs": [
        {
          "output_type": "execute_result",
          "data": {
            "text/plain": [
              "array([1., 1., 1.])"
            ]
          },
          "metadata": {},
          "execution_count": 4
        }
      ]
    },
    {
      "cell_type": "markdown",
      "metadata": {
        "id": "jduZtVShu40-"
      },
      "source": [
        "Numpy has many built-in functions and capabilities. We won't cover them all but instead we will focus on some of the most important aspects of Numpy: vectors, arrays, matrices, and number generation. Let's start by discussing arrays.\n",
        "\n",
        "# <font color='orange'>Numpy Arrays</font>\n",
        "\n",
        "NumPy’s main object is the homogeneous multidimensional array. It is a table of elements (usually numbers), all of the\n",
        "same type, indexed by a tuple of non-negative integers.<br>\n",
        "NumPy arrays are the main way we will use Numpy throughout the machine learning notebooks. Numpy arrays essentially come in two flavors: vectors and matrices. Vectors are strictly 1-d arrays and matrices are 2-d (but you should note a matrix can still have only one row or one column).\n",
        "<img src = 'images/numpy_arrays.png'>\n",
        "Let's begin our introduction by exploring how to create NumPy arrays.\n",
        "\n",
        "## <font color='orange'> Creating NumPy Arrays</font>\n",
        "\n",
        "### <font color='orange'> From a Python List</font>\n",
        "\n",
        "We can create an array by directly converting a list or list of lists:"
      ]
    },
    {
      "cell_type": "code",
      "execution_count": null,
      "metadata": {
        "colab": {
          "base_uri": "https://localhost:8080/"
        },
        "id": "qkSYtN5au40-",
        "outputId": "5be8865c-8042-489f-d012-f6913d3386ae"
      },
      "outputs": [
        {
          "output_type": "execute_result",
          "data": {
            "text/plain": [
              "[1, 2, 3]"
            ]
          },
          "metadata": {},
          "execution_count": 7
        }
      ],
      "source": [
        "my_list = [1,2,3]\n",
        "my_list"
      ]
    },
    {
      "cell_type": "code",
      "execution_count": null,
      "metadata": {
        "colab": {
          "base_uri": "https://localhost:8080/"
        },
        "id": "gCsalkPnu41A",
        "outputId": "64d7e673-0e8f-4340-8a24-336643c7e520"
      },
      "outputs": [
        {
          "output_type": "execute_result",
          "data": {
            "text/plain": [
              "array([1, 2, 3])"
            ]
          },
          "metadata": {},
          "execution_count": 8
        }
      ],
      "source": [
        "np.array(my_list)"
      ]
    },
    {
      "cell_type": "code",
      "execution_count": null,
      "metadata": {
        "colab": {
          "base_uri": "https://localhost:8080/"
        },
        "id": "TtMWZAvbu41C",
        "outputId": "de631ad7-99dd-44e9-e5e8-07cae326f552"
      },
      "outputs": [
        {
          "output_type": "execute_result",
          "data": {
            "text/plain": [
              "[[1, 2, 3], [4, 5, 6], [7, 8, 9], [7, 8, 9]]"
            ]
          },
          "metadata": {},
          "execution_count": 13
        }
      ],
      "source": [
        "my_matrix = [[1,2,3],[4,5,6],[7,8,9],[7,8,9]]\n",
        "my_matrix"
      ]
    },
    {
      "cell_type": "code",
      "execution_count": null,
      "metadata": {
        "id": "Um1gH0vou41D"
      },
      "outputs": [],
      "source": [
        "my_matrix_to_array = np.array(my_matrix)"
      ]
    },
    {
      "cell_type": "code",
      "execution_count": null,
      "metadata": {
        "colab": {
          "base_uri": "https://localhost:8080/"
        },
        "id": "eQbmH0q4jj3w",
        "outputId": "7267ae4f-5614-44e6-8646-4d873bd1746f"
      },
      "outputs": [
        {
          "output_type": "execute_result",
          "data": {
            "text/plain": [
              "array([[1, 2, 3],\n",
              "       [4, 5, 6],\n",
              "       [7, 8, 9],\n",
              "       [7, 8, 9]])"
            ]
          },
          "metadata": {},
          "execution_count": 15
        }
      ],
      "source": [
        "my_matrix_to_array"
      ]
    },
    {
      "cell_type": "code",
      "source": [
        "my_matrix_to_array.shape"
      ],
      "metadata": {
        "colab": {
          "base_uri": "https://localhost:8080/"
        },
        "id": "oysNDntHwcp0",
        "outputId": "848778bc-bcb7-464c-91b7-4076cb4a274e"
      },
      "execution_count": null,
      "outputs": [
        {
          "output_type": "execute_result",
          "data": {
            "text/plain": [
              "(4, 3)"
            ]
          },
          "metadata": {},
          "execution_count": 16
        }
      ]
    },
    {
      "cell_type": "code",
      "execution_count": null,
      "metadata": {
        "colab": {
          "base_uri": "https://localhost:8080/"
        },
        "id": "ZQnd86JM8AVE",
        "outputId": "979b72c8-38bb-4fa0-e7c6-a379ab37f0c6"
      },
      "outputs": [
        {
          "output_type": "execute_result",
          "data": {
            "text/plain": [
              "array(['1', '2', '3', '4', 'numpy'], dtype='<U21')"
            ]
          },
          "metadata": {},
          "execution_count": 17
        }
      ],
      "source": [
        "arr = np.array([1,2,3,4, 'numpy'])\n",
        "arr"
      ]
    },
    {
      "cell_type": "markdown",
      "metadata": {
        "id": "ssMhA1sLj3S-"
      },
      "source": [
        "For reference: https://numpy.org/doc/stable/reference/arrays.dtypes.html\n",
        "(various dtypes explained)"
      ]
    },
    {
      "cell_type": "markdown",
      "metadata": {
        "id": "8RjyHBBOu41E"
      },
      "source": [
        "### <font color='orange'> Built-in Methods </font>\n",
        "\n",
        "There are lots of built-in ways to generate Arrays"
      ]
    },
    {
      "cell_type": "markdown",
      "metadata": {
        "id": "MbVIuJFhu41F"
      },
      "source": [
        "### arange()\n",
        "\n",
        "Return evenly spaced values within a given interval."
      ]
    },
    {
      "cell_type": "code",
      "execution_count": null,
      "metadata": {
        "colab": {
          "base_uri": "https://localhost:8080/"
        },
        "id": "fHMD2o3Ku41F",
        "outputId": "89223692-4d9b-42df-a6ad-d8b1fbe87c68"
      },
      "outputs": [
        {
          "output_type": "execute_result",
          "data": {
            "text/plain": [
              "array([0, 2, 4, 6, 8])"
            ]
          },
          "metadata": {},
          "execution_count": 18
        }
      ],
      "source": [
        "np.arange(start = 0, stop = 10, step = 2)"
      ]
    },
    {
      "cell_type": "code",
      "execution_count": null,
      "metadata": {
        "colab": {
          "base_uri": "https://localhost:8080/"
        },
        "id": "HmoLQBWGN9aD",
        "outputId": "e4cfa978-0009-40da-ce0e-3879bbc9ccbc"
      },
      "outputs": [
        {
          "output_type": "execute_result",
          "data": {
            "text/plain": [
              "array([ 0,  1,  2,  3,  4,  5,  6,  7,  8,  9, 10, 11, 12, 13, 14, 15, 16,\n",
              "       17, 18, 19])"
            ]
          },
          "metadata": {},
          "execution_count": 19
        }
      ],
      "source": [
        "np.arange(start = 0, stop = 20)"
      ]
    },
    {
      "cell_type": "code",
      "execution_count": null,
      "metadata": {
        "colab": {
          "base_uri": "https://localhost:8080/"
        },
        "id": "areZ7oj5u41l",
        "outputId": "755329d1-1558-4d1f-ba6d-c4cd5f43b47d"
      },
      "outputs": [
        {
          "output_type": "execute_result",
          "data": {
            "text/plain": [
              "array([0.2, 0.5, 0.8])"
            ]
          },
          "metadata": {},
          "execution_count": 20
        }
      ],
      "source": [
        "np.arange(start = 0.2, stop = 1, step = 0.3)"
      ]
    },
    {
      "cell_type": "markdown",
      "metadata": {
        "id": "RJSmTDtJu41m"
      },
      "source": [
        "### zeros() and ones()\n",
        "\n",
        "Generate arrays of zeros or ones"
      ]
    },
    {
      "cell_type": "code",
      "execution_count": null,
      "metadata": {
        "colab": {
          "base_uri": "https://localhost:8080/"
        },
        "id": "QGZcLglKu41m",
        "outputId": "7597db17-732e-47f5-ed4a-d02d92fbc26f"
      },
      "outputs": [
        {
          "output_type": "execute_result",
          "data": {
            "text/plain": [
              "array([0., 0., 0.])"
            ]
          },
          "metadata": {},
          "execution_count": 21
        }
      ],
      "source": [
        "np.zeros(shape = 3)"
      ]
    },
    {
      "cell_type": "code",
      "execution_count": null,
      "metadata": {
        "colab": {
          "base_uri": "https://localhost:8080/"
        },
        "id": "Z0Q98KC-u41m",
        "outputId": "677781cf-a0cf-4cef-f074-1fa78012439d"
      },
      "outputs": [
        {
          "output_type": "execute_result",
          "data": {
            "text/plain": [
              "array([[0., 0., 0., 0., 0.],\n",
              "       [0., 0., 0., 0., 0.],\n",
              "       [0., 0., 0., 0., 0.],\n",
              "       [0., 0., 0., 0., 0.],\n",
              "       [0., 0., 0., 0., 0.]])"
            ]
          },
          "metadata": {},
          "execution_count": 22
        }
      ],
      "source": [
        "np.zeros(shape = (5, 5))"
      ]
    },
    {
      "cell_type": "code",
      "execution_count": null,
      "metadata": {
        "colab": {
          "base_uri": "https://localhost:8080/"
        },
        "id": "LNeCFDOuu41n",
        "outputId": "d76237b4-1082-446e-fd67-ed2b8630a8ca"
      },
      "outputs": [
        {
          "output_type": "execute_result",
          "data": {
            "text/plain": [
              "array([1., 1., 1.])"
            ]
          },
          "metadata": {},
          "execution_count": 23
        }
      ],
      "source": [
        "np.ones(shape = 3)"
      ]
    },
    {
      "cell_type": "code",
      "execution_count": null,
      "metadata": {
        "colab": {
          "base_uri": "https://localhost:8080/"
        },
        "id": "bld2H28Fu41s",
        "outputId": "5fbb75d4-db68-4ccf-deef-3d68a6ba6539"
      },
      "outputs": [
        {
          "output_type": "execute_result",
          "data": {
            "text/plain": [
              "array([[[[1., 1., 1.],\n",
              "         [1., 1., 1.],\n",
              "         [1., 1., 1.]],\n",
              "\n",
              "        [[1., 1., 1.],\n",
              "         [1., 1., 1.],\n",
              "         [1., 1., 1.]],\n",
              "\n",
              "        [[1., 1., 1.],\n",
              "         [1., 1., 1.],\n",
              "         [1., 1., 1.]]],\n",
              "\n",
              "\n",
              "       [[[1., 1., 1.],\n",
              "         [1., 1., 1.],\n",
              "         [1., 1., 1.]],\n",
              "\n",
              "        [[1., 1., 1.],\n",
              "         [1., 1., 1.],\n",
              "         [1., 1., 1.]],\n",
              "\n",
              "        [[1., 1., 1.],\n",
              "         [1., 1., 1.],\n",
              "         [1., 1., 1.]]],\n",
              "\n",
              "\n",
              "       [[[1., 1., 1.],\n",
              "         [1., 1., 1.],\n",
              "         [1., 1., 1.]],\n",
              "\n",
              "        [[1., 1., 1.],\n",
              "         [1., 1., 1.],\n",
              "         [1., 1., 1.]],\n",
              "\n",
              "        [[1., 1., 1.],\n",
              "         [1., 1., 1.],\n",
              "         [1., 1., 1.]]]])"
            ]
          },
          "metadata": {},
          "execution_count": 26
        }
      ],
      "source": [
        "np.ones(shape = (3, 3,3,3))"
      ]
    },
    {
      "cell_type": "markdown",
      "metadata": {
        "id": "2OnUEiW9u41t"
      },
      "source": [
        "### linspace()\n",
        "Return evenly spaced numbers over a specified interval."
      ]
    },
    {
      "cell_type": "code",
      "execution_count": null,
      "metadata": {
        "colab": {
          "base_uri": "https://localhost:8080/"
        },
        "id": "GoI4dP5Hu41t",
        "outputId": "5268b66e-f0d4-4627-a1fe-0b52c3606422"
      },
      "outputs": [
        {
          "output_type": "execute_result",
          "data": {
            "text/plain": [
              "array([ 0.,  5., 10.])"
            ]
          },
          "metadata": {},
          "execution_count": 27
        }
      ],
      "source": [
        "np.linspace(start = 0, stop = 10, num = 3) # num - total samples to be generated"
      ]
    },
    {
      "cell_type": "code",
      "execution_count": null,
      "metadata": {
        "colab": {
          "base_uri": "https://localhost:8080/"
        },
        "id": "huvhTQTPO_6D",
        "outputId": "a5c9231d-4067-4d8e-ce03-efb35d5a7cb2"
      },
      "outputs": [
        {
          "output_type": "execute_result",
          "data": {
            "text/plain": [
              "array([ 1.,  2.,  3.,  4.,  5.,  6.,  7.,  8.,  9., 10.])"
            ]
          },
          "metadata": {},
          "execution_count": 28
        }
      ],
      "source": [
        "np.linspace(start = 1, stop = 10, num = 10)"
      ]
    },
    {
      "cell_type": "code",
      "execution_count": null,
      "metadata": {
        "colab": {
          "base_uri": "https://localhost:8080/"
        },
        "id": "Bcpzhk2ru41u",
        "outputId": "ad219f1c-f554-4347-a2f5-94171e1990fb"
      },
      "outputs": [
        {
          "output_type": "execute_result",
          "data": {
            "text/plain": [
              "array([ 0.        ,  0.20408163,  0.40816327,  0.6122449 ,  0.81632653,\n",
              "        1.02040816,  1.2244898 ,  1.42857143,  1.63265306,  1.83673469,\n",
              "        2.04081633,  2.24489796,  2.44897959,  2.65306122,  2.85714286,\n",
              "        3.06122449,  3.26530612,  3.46938776,  3.67346939,  3.87755102,\n",
              "        4.08163265,  4.28571429,  4.48979592,  4.69387755,  4.89795918,\n",
              "        5.10204082,  5.30612245,  5.51020408,  5.71428571,  5.91836735,\n",
              "        6.12244898,  6.32653061,  6.53061224,  6.73469388,  6.93877551,\n",
              "        7.14285714,  7.34693878,  7.55102041,  7.75510204,  7.95918367,\n",
              "        8.16326531,  8.36734694,  8.57142857,  8.7755102 ,  8.97959184,\n",
              "        9.18367347,  9.3877551 ,  9.59183673,  9.79591837, 10.        ])"
            ]
          },
          "metadata": {},
          "execution_count": 29
        }
      ],
      "source": [
        "np.linspace(start = 0, stop = 10, num = 50)"
      ]
    },
    {
      "cell_type": "markdown",
      "metadata": {
        "id": "YuAw19DPu41v"
      },
      "source": [
        "### eye()\n",
        "\n",
        "Creates an identity matrix"
      ]
    },
    {
      "cell_type": "code",
      "execution_count": null,
      "metadata": {
        "colab": {
          "base_uri": "https://localhost:8080/"
        },
        "id": "Q6aNleRNu41v",
        "outputId": "a300c4b9-359f-4a38-e8c5-be94cfa10b4a"
      },
      "outputs": [
        {
          "output_type": "execute_result",
          "data": {
            "text/plain": [
              "array([[1., 0., 0., 0., 0.],\n",
              "       [0., 1., 0., 0., 0.],\n",
              "       [0., 0., 1., 0., 0.],\n",
              "       [0., 0., 0., 1., 0.],\n",
              "       [0., 0., 0., 0., 1.]])"
            ]
          },
          "metadata": {},
          "execution_count": 31
        }
      ],
      "source": [
        "np.eye(5)"
      ]
    },
    {
      "cell_type": "markdown",
      "metadata": {
        "id": "RNOrBmIcu41v"
      },
      "source": [
        "## <font color='orange'> Random</font>\n",
        "\n",
        "Numpy also has lots of ways to create random number arrays:\n",
        "\n",
        "**Rand:** Create an array of the given shape and populate it with random samples from a uniform distribution over [0, 1).\n",
        "\n",
        "**Randn:** The numpy.random.randn() function creates an array of specified shape and fills it with random values as per standard normal distribution.\n",
        "\n",
        "**Randint:** Return random integers from low (inclusive) to high (exclusive)."
      ]
    },
    {
      "cell_type": "markdown",
      "metadata": {
        "id": "Zg5DCSMTiK5u"
      },
      "source": [
        "### rand()\n",
        "Create an array of the given shape and populate it with\n",
        "random samples from a uniform distribution\n",
        "over ``[0, 1)``."
      ]
    },
    {
      "cell_type": "code",
      "execution_count": null,
      "metadata": {
        "colab": {
          "base_uri": "https://localhost:8080/"
        },
        "id": "Is3b4wqUu41w",
        "outputId": "9b710145-cd2b-42bd-8774-65bbe6514382"
      },
      "outputs": [
        {
          "output_type": "execute_result",
          "data": {
            "text/plain": [
              "array([0.73374344, 0.59130311])"
            ]
          },
          "metadata": {},
          "execution_count": 32
        }
      ],
      "source": [
        "np.random.rand(2)"
      ]
    },
    {
      "cell_type": "code",
      "execution_count": null,
      "metadata": {
        "colab": {
          "base_uri": "https://localhost:8080/"
        },
        "id": "FVotfgOnu41w",
        "outputId": "ea5fedab-202d-479f-ffd5-468cc7ca4cae"
      },
      "outputs": [
        {
          "output_type": "execute_result",
          "data": {
            "text/plain": [
              "array([[0.09695787, 0.95143608, 0.98746129, 0.78979923, 0.21183684],\n",
              "       [0.71058675, 0.49540675, 0.99048615, 0.21467602, 0.12139284],\n",
              "       [0.56211013, 0.9585283 , 0.84864934, 0.35980196, 0.12600049],\n",
              "       [0.00987596, 0.06668954, 0.34195606, 0.61106006, 0.42603632],\n",
              "       [0.06486484, 0.29591474, 0.93125063, 0.84780738, 0.62332959]])"
            ]
          },
          "metadata": {},
          "execution_count": 33
        }
      ],
      "source": [
        "np.random.rand(5, 5)"
      ]
    },
    {
      "cell_type": "markdown",
      "metadata": {
        "id": "hojwG1NXu41x"
      },
      "source": [
        "### randn()\n",
        "\n",
        "Return a sample (or samples) from the \"standard normal\" distribution. Unlike rand which is uniform:"
      ]
    },
    {
      "cell_type": "code",
      "execution_count": null,
      "metadata": {
        "colab": {
          "base_uri": "https://localhost:8080/"
        },
        "id": "sbzuqNOhu41y",
        "outputId": "4d8e5917-b312-481a-f249-171d23c90389"
      },
      "outputs": [
        {
          "output_type": "execute_result",
          "data": {
            "text/plain": [
              "array([-1.15456343, -1.31990043])"
            ]
          },
          "metadata": {},
          "execution_count": 35
        }
      ],
      "source": [
        "np.random.randn(2)"
      ]
    },
    {
      "cell_type": "code",
      "execution_count": null,
      "metadata": {
        "colab": {
          "base_uri": "https://localhost:8080/"
        },
        "id": "F6Iu0VdXu41y",
        "outputId": "9f069800-55b9-44da-c909-d225c91f9724"
      },
      "outputs": [
        {
          "output_type": "execute_result",
          "data": {
            "text/plain": [
              "array([[ 0.59020851,  0.36908747,  0.23874254,  0.46682798, -1.30725266],\n",
              "       [-1.34484077, -0.98983351,  0.78376254,  0.90194546,  1.53700523],\n",
              "       [ 1.75647716, -0.09972414,  0.78326666, -0.46382093,  0.1590618 ],\n",
              "       [-1.85231124,  0.74944619, -0.46004105, -0.20495004,  0.13049828],\n",
              "       [-0.76476491,  0.66410314,  0.62844001,  1.15901477,  0.68816542]])"
            ]
          },
          "metadata": {},
          "execution_count": 36
        }
      ],
      "source": [
        "np.random.randn(5, 5)"
      ]
    },
    {
      "cell_type": "markdown",
      "metadata": {
        "id": "s0Sd5qmnu41y"
      },
      "source": [
        "### randint()\n",
        "Return random integers from `low` (inclusive) to `high` (exclusive)."
      ]
    },
    {
      "cell_type": "code",
      "execution_count": null,
      "metadata": {
        "colab": {
          "base_uri": "https://localhost:8080/"
        },
        "id": "hu3Tj12ou41z",
        "outputId": "de5bece0-5312-4d03-d70d-439f243cbefb"
      },
      "outputs": [
        {
          "output_type": "execute_result",
          "data": {
            "text/plain": [
              "85"
            ]
          },
          "metadata": {},
          "execution_count": 37
        }
      ],
      "source": [
        "np.random.randint(low = 1, high = 100)"
      ]
    },
    {
      "cell_type": "code",
      "execution_count": null,
      "metadata": {
        "colab": {
          "base_uri": "https://localhost:8080/"
        },
        "id": "b25MrOugu41z",
        "outputId": "d0239958-bb25-4d4a-de61-c8a9a04b349c"
      },
      "outputs": [
        {
          "output_type": "execute_result",
          "data": {
            "text/plain": [
              "array([89, 21, 18, 38, 73, 61, 74, 92, 91, 12])"
            ]
          },
          "metadata": {},
          "execution_count": 38
        }
      ],
      "source": [
        "np.random.randint(low = 1, high = 100, size = 10)"
      ]
    },
    {
      "cell_type": "markdown",
      "metadata": {
        "id": "JerPw91xVaxr"
      },
      "source": [
        "### normal()\n",
        "\n",
        "Draw random samples from a normal (Gaussian) distribution.\n"
      ]
    },
    {
      "cell_type": "code",
      "execution_count": null,
      "metadata": {
        "colab": {
          "base_uri": "https://localhost:8080/"
        },
        "id": "2OCH0IlpUqN9",
        "outputId": "e60d9164-5b33-4cd2-fb0a-1b10e6d8b0ea"
      },
      "outputs": [
        {
          "output_type": "execute_result",
          "data": {
            "text/plain": [
              "array([[ 3.30986019,  4.32249873,  2.03839881,  5.34839009],\n",
              "       [ 2.99917733,  7.33212247, 10.29612288,  3.28448432],\n",
              "       [ 3.52935917,  9.89123626,  1.28294926,  4.41398531],\n",
              "       [-0.97240953,  5.79279971,  7.3291848 ,  3.68242357],\n",
              "       [ 0.69049584,  4.47087627,  3.03873458,  3.26891882]])"
            ]
          },
          "metadata": {},
          "execution_count": 39
        }
      ],
      "source": [
        "np.random.normal(loc=5, scale=4, size=(5, 4))   # loc - mean, scale-variance"
      ]
    },
    {
      "cell_type": "markdown",
      "metadata": {
        "id": "6riG2puKu41z"
      },
      "source": [
        "## <font color='orange'> Array Attributes and Methods </font>\n",
        "\n",
        "Let's discuss some useful attributes and methods of an array:"
      ]
    },
    {
      "cell_type": "markdown",
      "metadata": {
        "id": "asxUEIpf3kql"
      },
      "source": [
        "### ndarray.ndim\n",
        "\n",
        "\n",
        "**ndim** represents the number of dimensions (axes) of the ndarray.\n"
      ]
    },
    {
      "cell_type": "code",
      "execution_count": null,
      "metadata": {
        "colab": {
          "base_uri": "https://localhost:8080/"
        },
        "id": "PwAzF4F03e8Q",
        "outputId": "631f510a-adcd-4904-a297-15af27bc675a"
      },
      "outputs": [
        {
          "output_type": "execute_result",
          "data": {
            "text/plain": [
              "2"
            ]
          },
          "metadata": {},
          "execution_count": 40
        }
      ],
      "source": [
        "array = np.array([[1,2,3],\n",
        "                  [4,5,6],\n",
        "                  [7,8,9]])\n",
        "\n",
        "array.ndim  # 2 D array"
      ]
    },
    {
      "cell_type": "code",
      "source": [
        "array.shape"
      ],
      "metadata": {
        "colab": {
          "base_uri": "https://localhost:8080/"
        },
        "id": "7NmhvFxKyze7",
        "outputId": "ca911ca8-0013-41d3-9066-251cf05cb24f"
      },
      "execution_count": null,
      "outputs": [
        {
          "output_type": "execute_result",
          "data": {
            "text/plain": [
              "(3, 3)"
            ]
          },
          "metadata": {},
          "execution_count": 42
        }
      ]
    },
    {
      "cell_type": "markdown",
      "metadata": {
        "id": "9OI-oZhE4Znf"
      },
      "source": [
        "### ndarray.shape\n",
        "\n",
        "shape is a tuple of integers representing the size of the ndarray in each dimension."
      ]
    },
    {
      "cell_type": "code",
      "execution_count": null,
      "metadata": {
        "colab": {
          "base_uri": "https://localhost:8080/"
        },
        "id": "gtMi7YS-4ZsN",
        "outputId": "5a44e1fa-9b8c-4dc1-99e5-516f58bf7605"
      },
      "outputs": [
        {
          "output_type": "execute_result",
          "data": {
            "text/plain": [
              "(3, 3)"
            ]
          },
          "metadata": {},
          "execution_count": 43
        }
      ],
      "source": [
        "array.shape"
      ]
    },
    {
      "cell_type": "markdown",
      "metadata": {
        "id": "PIo7iexP4ZzM"
      },
      "source": [
        "### ndarray.size\n",
        "\n",
        "size is the total number of elements in the ndarray. It is equal to the product of elements of the shape."
      ]
    },
    {
      "cell_type": "code",
      "execution_count": null,
      "metadata": {
        "colab": {
          "base_uri": "https://localhost:8080/"
        },
        "id": "GLlwYTvx4Z5d",
        "outputId": "cb32a881-7ca0-409c-a0bf-9110f6be2c71"
      },
      "outputs": [
        {
          "output_type": "execute_result",
          "data": {
            "text/plain": [
              "9"
            ]
          },
          "metadata": {},
          "execution_count": 44
        }
      ],
      "source": [
        "array.size"
      ]
    },
    {
      "cell_type": "markdown",
      "metadata": {
        "id": "4_T8HUyF4aAo"
      },
      "source": [
        "### ndarray.dtype\n",
        "\n",
        "dtype tells the data type of the elements of a NumPy array."
      ]
    },
    {
      "cell_type": "code",
      "execution_count": null,
      "metadata": {
        "colab": {
          "base_uri": "https://localhost:8080/"
        },
        "id": "Gk2YFdkD4aIR",
        "outputId": "ad361c7e-d62b-4b84-cbbb-af74996fe819"
      },
      "outputs": [
        {
          "output_type": "execute_result",
          "data": {
            "text/plain": [
              "dtype('int64')"
            ]
          },
          "metadata": {},
          "execution_count": 45
        }
      ],
      "source": [
        "array.dtype"
      ]
    },
    {
      "cell_type": "markdown",
      "metadata": {
        "id": "OQQiyvwOu410"
      },
      "source": [
        "### ndarray.reshape\n",
        "\n",
        "Gives a new shape to an array without changing its data."
      ]
    },
    {
      "cell_type": "code",
      "execution_count": null,
      "metadata": {
        "colab": {
          "base_uri": "https://localhost:8080/"
        },
        "id": "g9pjwehn5e6G",
        "outputId": "402f2721-113d-4a4b-eab2-a99c1388fca7"
      },
      "outputs": [
        {
          "output_type": "execute_result",
          "data": {
            "text/plain": [
              "array([ 0,  1,  2,  3,  4,  5,  6,  7,  8,  9, 10, 11, 12, 13, 14, 15, 16,\n",
              "       17, 18, 19, 20, 21, 22, 23, 24])"
            ]
          },
          "metadata": {},
          "execution_count": 46
        }
      ],
      "source": [
        "arr = np.arange(25)\n",
        "arr"
      ]
    },
    {
      "cell_type": "code",
      "execution_count": null,
      "metadata": {
        "id": "-D9B1-7cu411",
        "outputId": "ea6b350a-ece3-4bad-e93e-a4a2f2594aed",
        "colab": {
          "base_uri": "https://localhost:8080/"
        }
      },
      "outputs": [
        {
          "output_type": "execute_result",
          "data": {
            "text/plain": [
              "(5, 5)"
            ]
          },
          "metadata": {},
          "execution_count": 47
        }
      ],
      "source": [
        "arr1 = arr.reshape(5,5)\n",
        "arr1.shape"
      ]
    },
    {
      "cell_type": "code",
      "execution_count": null,
      "metadata": {
        "colab": {
          "base_uri": "https://localhost:8080/"
        },
        "id": "W72cyAAXLxcs",
        "outputId": "0d50616c-ed8f-43f0-e635-becdf7f76241"
      },
      "outputs": [
        {
          "output_type": "execute_result",
          "data": {
            "text/plain": [
              "array([[ 0,  1,  2,  3,  4],\n",
              "       [ 5,  6,  7,  8,  9],\n",
              "       [10, 11, 12, 13, 14],\n",
              "       [15, 16, 17, 18, 19],\n",
              "       [20, 21, 22, 23, 24]])"
            ]
          },
          "metadata": {},
          "execution_count": 48
        }
      ],
      "source": [
        "arr1"
      ]
    },
    {
      "cell_type": "code",
      "source": [
        "arr1.ndim"
      ],
      "metadata": {
        "colab": {
          "base_uri": "https://localhost:8080/"
        },
        "id": "nxkYsJe5zMk7",
        "outputId": "5aaf679e-4a2d-4e78-e8b9-43cb3dc91877"
      },
      "execution_count": null,
      "outputs": [
        {
          "output_type": "execute_result",
          "data": {
            "text/plain": [
              "2"
            ]
          },
          "metadata": {},
          "execution_count": 49
        }
      ]
    },
    {
      "cell_type": "code",
      "execution_count": null,
      "metadata": {
        "colab": {
          "base_uri": "https://localhost:8080/"
        },
        "id": "99VRlcm7u413",
        "outputId": "16a293e7-294c-42e6-d89c-bb894ce43bb5"
      },
      "outputs": [
        {
          "output_type": "execute_result",
          "data": {
            "text/plain": [
              "array([[ 0,  1,  2,  3,  4,  5,  6,  7,  8,  9, 10, 11, 12, 13, 14, 15,\n",
              "        16, 17, 18, 19, 20, 21, 22, 23, 24]])"
            ]
          },
          "metadata": {},
          "execution_count": 51
        }
      ],
      "source": [
        "# Notice the two sets of brackets [list]\n",
        "arr1.reshape(1, 25)"
      ]
    },
    {
      "cell_type": "code",
      "execution_count": null,
      "metadata": {
        "colab": {
          "base_uri": "https://localhost:8080/",
          "height": 141
        },
        "id": "7Eyos-l3u414",
        "outputId": "3266edeb-e2ba-4a28-df21-d91992f52eeb"
      },
      "outputs": [
        {
          "output_type": "error",
          "ename": "ValueError",
          "evalue": "cannot reshape array of size 25 into shape (1,20)",
          "traceback": [
            "\u001b[0;31m---------------------------------------------------------------------------\u001b[0m",
            "\u001b[0;31mValueError\u001b[0m                                Traceback (most recent call last)",
            "\u001b[0;32m<ipython-input-55-a5eaa6b21883>\u001b[0m in \u001b[0;36m<cell line: 1>\u001b[0;34m()\u001b[0m\n\u001b[0;32m----> 1\u001b[0;31m \u001b[0marr\u001b[0m\u001b[0;34m.\u001b[0m\u001b[0mreshape\u001b[0m\u001b[0;34m(\u001b[0m\u001b[0;36m1\u001b[0m\u001b[0;34m,\u001b[0m \u001b[0;36m20\u001b[0m\u001b[0;34m)\u001b[0m\u001b[0;34m.\u001b[0m\u001b[0mshape\u001b[0m\u001b[0;34m\u001b[0m\u001b[0;34m\u001b[0m\u001b[0m\n\u001b[0m",
            "\u001b[0;31mValueError\u001b[0m: cannot reshape array of size 25 into shape (1,20)"
          ]
        }
      ],
      "source": [
        "arr.reshape(1, 20).shape"
      ]
    },
    {
      "cell_type": "code",
      "execution_count": null,
      "metadata": {
        "colab": {
          "base_uri": "https://localhost:8080/"
        },
        "id": "s-wrDJK7u414",
        "outputId": "8d6e6d1f-52f4-4d9e-bcd8-49202292f302"
      },
      "outputs": [
        {
          "output_type": "execute_result",
          "data": {
            "text/plain": [
              "array([[ 0],\n",
              "       [ 1],\n",
              "       [ 2],\n",
              "       [ 3],\n",
              "       [ 4],\n",
              "       [ 5],\n",
              "       [ 6],\n",
              "       [ 7],\n",
              "       [ 8],\n",
              "       [ 9],\n",
              "       [10],\n",
              "       [11],\n",
              "       [12],\n",
              "       [13],\n",
              "       [14],\n",
              "       [15],\n",
              "       [16],\n",
              "       [17],\n",
              "       [18],\n",
              "       [19],\n",
              "       [20],\n",
              "       [21],\n",
              "       [22],\n",
              "       [23],\n",
              "       [24]])"
            ]
          },
          "metadata": {},
          "execution_count": 53
        }
      ],
      "source": [
        "arr.reshape(25,1)"
      ]
    },
    {
      "cell_type": "code",
      "execution_count": null,
      "metadata": {
        "colab": {
          "base_uri": "https://localhost:8080/"
        },
        "id": "4aIHXkUFu414",
        "outputId": "cf28f592-57f2-4278-9dab-da2bbdfe918a"
      },
      "outputs": [
        {
          "output_type": "execute_result",
          "data": {
            "text/plain": [
              "(25, 1)"
            ]
          },
          "metadata": {},
          "execution_count": 56
        }
      ],
      "source": [
        "arr.reshape(25, 1).shape"
      ]
    },
    {
      "cell_type": "markdown",
      "metadata": {
        "id": "Sy4SEjO3u416"
      },
      "source": [
        "# <font color='orange'> NumPy Indexing and Selection</font>\n",
        "\n",
        "Now, we will discuss how to select elements or groups of elements from an array.\n",
        "\n",
        "But before that, let's understand what is postive and negative indexing in a 1D array with the help of a diagram.\n",
        "\n",
        "<img src = 'images/arr_indexing.png'>"
      ]
    },
    {
      "cell_type": "code",
      "source": [
        "my_list = [10,20,30,40]\n",
        "my_list[3]"
      ],
      "metadata": {
        "colab": {
          "base_uri": "https://localhost:8080/"
        },
        "id": "tKqCWU0Qz4O2",
        "outputId": "f4fce3e3-60b8-42b5-c343-aa7cdef9fb55"
      },
      "execution_count": null,
      "outputs": [
        {
          "output_type": "execute_result",
          "data": {
            "text/plain": [
              "40"
            ]
          },
          "metadata": {},
          "execution_count": 57
        }
      ]
    },
    {
      "cell_type": "code",
      "source": [
        "my_list = [[10,20,30,40]]\n",
        "my_list[0]"
      ],
      "metadata": {
        "colab": {
          "base_uri": "https://localhost:8080/"
        },
        "id": "bx0RVmFp0Cs8",
        "outputId": "2b8f311f-f63c-4970-c18b-739a258b0325"
      },
      "execution_count": null,
      "outputs": [
        {
          "output_type": "execute_result",
          "data": {
            "text/plain": [
              "[10, 20, 30, 40]"
            ]
          },
          "metadata": {},
          "execution_count": 66
        }
      ]
    },
    {
      "cell_type": "code",
      "execution_count": null,
      "metadata": {
        "id": "4UiotdNRu417"
      },
      "outputs": [],
      "source": [
        "# Creating sample array\n",
        "arr = np.arange(start = 7, stop = 15)\n",
        "arr"
      ]
    },
    {
      "cell_type": "markdown",
      "metadata": {
        "id": "B9dBAKp1u417"
      },
      "source": [
        "## <font color='orange'> Indexing a 1D array </font>\n",
        "The simplest way to pick one or some elements of an array looks very similar to python lists:"
      ]
    },
    {
      "cell_type": "code",
      "source": [
        "arr"
      ],
      "metadata": {
        "colab": {
          "base_uri": "https://localhost:8080/"
        },
        "id": "1-OcNk_z0ZHf",
        "outputId": "833457ae-1b3b-492f-b8e0-2da0da9337dd"
      },
      "execution_count": null,
      "outputs": [
        {
          "output_type": "execute_result",
          "data": {
            "text/plain": [
              "array([ 0,  1,  2,  3,  4,  5,  6,  7,  8,  9, 10, 11, 12, 13, 14, 15, 16,\n",
              "       17, 18, 19, 20, 21, 22, 23, 24])"
            ]
          },
          "metadata": {},
          "execution_count": 61
        }
      ]
    },
    {
      "cell_type": "code",
      "execution_count": null,
      "metadata": {
        "colab": {
          "base_uri": "https://localhost:8080/"
        },
        "id": "ifxJo_pYu417",
        "outputId": "9f648d62-5dc5-459f-c2aa-d89444534792"
      },
      "outputs": [
        {
          "output_type": "execute_result",
          "data": {
            "text/plain": [
              "3"
            ]
          },
          "metadata": {},
          "execution_count": 60
        }
      ],
      "source": [
        "# get a value at an index\n",
        "arr[3]"
      ]
    },
    {
      "cell_type": "code",
      "execution_count": null,
      "metadata": {
        "colab": {
          "base_uri": "https://localhost:8080/"
        },
        "id": "unuWP7DOu418",
        "outputId": "e873b881-7dc4-431e-c978-3a30ff0cb25d"
      },
      "outputs": [
        {
          "output_type": "execute_result",
          "data": {
            "text/plain": [
              "array([1, 2, 3, 4])"
            ]
          },
          "metadata": {},
          "execution_count": 62
        }
      ],
      "source": [
        "# get values in a range using positive indexing\n",
        "arr[1:5]"
      ]
    },
    {
      "cell_type": "code",
      "execution_count": null,
      "metadata": {
        "id": "eqsi7vHsJcWg",
        "outputId": "c92d9281-4a24-4899-823a-0823a0ca34f7",
        "colab": {
          "base_uri": "https://localhost:8080/"
        }
      },
      "outputs": [
        {
          "output_type": "execute_result",
          "data": {
            "text/plain": [
              "array([18, 19, 20, 21])"
            ]
          },
          "metadata": {},
          "execution_count": 63
        }
      ],
      "source": [
        "# get values in a range using negative indexing\n",
        "arr[-7:-3]"
      ]
    },
    {
      "cell_type": "markdown",
      "metadata": {
        "id": "xjbdqJ_Ju42B"
      },
      "source": [
        "## <font color='orange'> Indexing a 2D array (matrices) </font>\n",
        "\n",
        "The general format is **arr_2d[row][col]** or **arr_2d[row, col]**. I recommend usually using the comma notation for clarity.\n",
        "\n",
        "<img src='images/arr2d_indexing.png'>"
      ]
    },
    {
      "cell_type": "code",
      "execution_count": null,
      "metadata": {
        "colab": {
          "base_uri": "https://localhost:8080/"
        },
        "id": "jVmykRqxu42B",
        "outputId": "04df72f0-324f-42d2-c811-4e1f00fa9a64"
      },
      "outputs": [
        {
          "output_type": "execute_result",
          "data": {
            "text/plain": [
              "array([[11, 13, 15, 17, 19],\n",
              "       [21, 23, 25, 27, 29],\n",
              "       [31, 33, 35, 37, 39],\n",
              "       [41, 43, 45, 47, 49],\n",
              "       [51, 53, 55, 57, 59]])"
            ]
          },
          "metadata": {},
          "execution_count": 64
        }
      ],
      "source": [
        "arr_2d = np.array([[11, 13, 15, 17, 19],\n",
        "                   [21, 23, 25, 27, 29],\n",
        "                   [31, 33, 35, 37, 39],\n",
        "                   [41, 43, 45, 47, 49],\n",
        "                   [51, 53, 55, 57, 59]])\n",
        "arr_2d"
      ]
    },
    {
      "cell_type": "code",
      "execution_count": null,
      "metadata": {
        "colab": {
          "base_uri": "https://localhost:8080/"
        },
        "id": "euR-pCuTu42C",
        "outputId": "75eae247-83e5-4a76-f163-73e556bd385e"
      },
      "outputs": [
        {
          "output_type": "execute_result",
          "data": {
            "text/plain": [
              "array([41, 43, 45, 47, 49])"
            ]
          },
          "metadata": {},
          "execution_count": 67
        }
      ],
      "source": [
        "# Indexing a row\n",
        "arr_2d[3]"
      ]
    },
    {
      "cell_type": "code",
      "execution_count": null,
      "metadata": {
        "colab": {
          "base_uri": "https://localhost:8080/"
        },
        "id": "ZtFpJLtovwoD",
        "outputId": "578b32e6-4cc7-4505-81b6-c2c869263215"
      },
      "outputs": [
        {
          "output_type": "execute_result",
          "data": {
            "text/plain": [
              "array([17, 27, 37, 47, 57])"
            ]
          },
          "metadata": {},
          "execution_count": 69
        }
      ],
      "source": [
        "# Indexing a column\n",
        "arr_2d[:, 3]"
      ]
    },
    {
      "cell_type": "code",
      "execution_count": null,
      "metadata": {
        "colab": {
          "base_uri": "https://localhost:8080/"
        },
        "id": "mRNpW2Gqu42C",
        "outputId": "1d14cf7f-ef93-4441-8ba4-15c00403ef1c"
      },
      "outputs": [
        {
          "output_type": "execute_result",
          "data": {
            "text/plain": [
              "39"
            ]
          },
          "metadata": {},
          "execution_count": 70
        }
      ],
      "source": [
        "# Getting individual element value\n",
        "arr_2d[2][4]"
      ]
    },
    {
      "cell_type": "code",
      "source": [
        "arr_2d.shape"
      ],
      "metadata": {
        "colab": {
          "base_uri": "https://localhost:8080/"
        },
        "id": "j9k57Uxe08pE",
        "outputId": "591713f7-f6ec-465b-8a30-3e27825a6574"
      },
      "execution_count": null,
      "outputs": [
        {
          "output_type": "execute_result",
          "data": {
            "text/plain": [
              "(5, 5)"
            ]
          },
          "metadata": {},
          "execution_count": 73
        }
      ]
    },
    {
      "cell_type": "code",
      "execution_count": null,
      "metadata": {
        "colab": {
          "base_uri": "https://localhost:8080/"
        },
        "id": "TEWesiUAu42C",
        "outputId": "00732701-50e9-47e9-ef27-2de6b5b50b6c"
      },
      "outputs": [
        {
          "output_type": "execute_result",
          "data": {
            "text/plain": [
              "array([[13, 15, 17, 19],\n",
              "       [23, 25, 27, 29]])"
            ]
          },
          "metadata": {},
          "execution_count": 71
        }
      ],
      "source": [
        "# 2D array slicing\n",
        "# Shape (2,4) from top right corner\n",
        "\n",
        "arr_2d[:2, 1:]"
      ]
    },
    {
      "cell_type": "code",
      "source": [
        "arr_2d[1][2]"
      ],
      "metadata": {
        "colab": {
          "base_uri": "https://localhost:8080/"
        },
        "id": "-RRjGrA-1HGF",
        "outputId": "99800531-61ae-45d2-f3b9-24eea68b8c9f"
      },
      "execution_count": null,
      "outputs": [
        {
          "output_type": "execute_result",
          "data": {
            "text/plain": [
              "25"
            ]
          },
          "metadata": {},
          "execution_count": 74
        }
      ]
    },
    {
      "cell_type": "code",
      "execution_count": null,
      "metadata": {
        "colab": {
          "base_uri": "https://localhost:8080/"
        },
        "id": "SVAzgNRKjhOq",
        "outputId": "eaa4f1dc-2038-4433-e321-fbf72ea94ca9"
      },
      "outputs": [
        {
          "output_type": "stream",
          "name": "stdout",
          "text": [
            "[[11 13 15 17 19]\n",
            " [21 23 40 27 29]\n",
            " [31 33 35 37 39]\n",
            " [41 43 45 47 49]\n",
            " [51 53 55 57 59]]\n"
          ]
        }
      ],
      "source": [
        "# Modifying individual element value\n",
        "arr_2d[1][2] = 40\n",
        "\n",
        "print(arr_2d)"
      ]
    },
    {
      "cell_type": "markdown",
      "metadata": {
        "id": "fBwGulDNu41-"
      },
      "source": [
        "## <font color='orange'> Broadcasting </font>\n",
        "\n",
        "Numpy arrays differ from a normal Python list because of their ability to broadcast:\n",
        "\n",
        "<img src='images/broadcasting.png'>"
      ]
    },
    {
      "cell_type": "code",
      "execution_count": null,
      "metadata": {
        "colab": {
          "base_uri": "https://localhost:8080/"
        },
        "id": "dCviGCT5Ljcs",
        "outputId": "3cdd7328-7ddf-4b3f-cd91-5ff9233194e1"
      },
      "outputs": [
        {
          "output_type": "stream",
          "name": "stdout",
          "text": [
            "Array1: \n",
            "[[1. 1. 1.]\n",
            " [1. 1. 1.]\n",
            " [1. 1. 1.]]\n",
            "\n",
            "Array2: \n",
            "[0 1 2]\n",
            "\n",
            "Sum\n",
            "[[1. 2. 3.]\n",
            " [1. 2. 3.]\n",
            " [1. 2. 3.]]\n"
          ]
        }
      ],
      "source": [
        "arr1 = np.ones(shape=(3, 3))\n",
        "arr2 = np.arange(3)\n",
        "\n",
        "print(\"Array1: \")\n",
        "print(arr1)\n",
        "print()\n",
        "print(\"Array2: \")\n",
        "print(arr2)\n",
        "print()\n",
        "print(\"Sum\")\n",
        "print(arr1 + arr2)"
      ]
    },
    {
      "cell_type": "code",
      "source": [
        "arr1 = np.ones(shape=(3, 3))\n",
        "arr2 = np.arange(3)\n"
      ],
      "metadata": {
        "id": "6LM3H8zB1cxq"
      },
      "execution_count": null,
      "outputs": []
    },
    {
      "cell_type": "code",
      "source": [
        "arr2 = np.array([[0],[1],[2]])"
      ],
      "metadata": {
        "id": "-ImSHVYD1xBT"
      },
      "execution_count": null,
      "outputs": []
    },
    {
      "cell_type": "code",
      "source": [
        "# arr2 = np.ones(shape=(1,3))"
      ],
      "metadata": {
        "id": "pr9lpy5g1n5D"
      },
      "execution_count": null,
      "outputs": []
    },
    {
      "cell_type": "code",
      "source": [
        "arr2"
      ],
      "metadata": {
        "colab": {
          "base_uri": "https://localhost:8080/"
        },
        "id": "Z_2deluW1poB",
        "outputId": "bf524369-9fe8-4a4f-ed97-f33d1c1e0195"
      },
      "execution_count": null,
      "outputs": [
        {
          "output_type": "execute_result",
          "data": {
            "text/plain": [
              "array([[0],\n",
              "       [1],\n",
              "       [2]])"
            ]
          },
          "metadata": {},
          "execution_count": 93
        }
      ]
    },
    {
      "cell_type": "code",
      "source": [
        "print(arr1 + arr2)"
      ],
      "metadata": {
        "colab": {
          "base_uri": "https://localhost:8080/"
        },
        "id": "7TOpPmq31uCS",
        "outputId": "35388c06-594b-4af8-8ed0-3101ede4e76a"
      },
      "execution_count": null,
      "outputs": [
        {
          "output_type": "stream",
          "name": "stdout",
          "text": [
            "[[1. 1. 1.]\n",
            " [2. 2. 2.]\n",
            " [3. 3. 3.]]\n"
          ]
        }
      ]
    },
    {
      "cell_type": "markdown",
      "metadata": {
        "id": "x4WiK3hSu42F"
      },
      "source": [
        "## <font color='orange'> Selection </font>\n",
        "\n",
        "Let's briefly go over how to use brackets for selection based off of comparison operators."
      ]
    },
    {
      "cell_type": "code",
      "execution_count": null,
      "metadata": {
        "colab": {
          "base_uri": "https://localhost:8080/"
        },
        "id": "kMUIFo22u42F",
        "outputId": "b2eb1fd6-93cf-43cd-c8b8-9fa0e6f398b3"
      },
      "outputs": [
        {
          "output_type": "execute_result",
          "data": {
            "text/plain": [
              "array([ 1,  2,  3,  4,  5,  6,  7,  8,  9, 10])"
            ]
          },
          "metadata": {},
          "execution_count": 94
        }
      ],
      "source": [
        "arr = np.arange(start = 1, stop = 11)\n",
        "arr"
      ]
    },
    {
      "cell_type": "code",
      "execution_count": null,
      "metadata": {
        "colab": {
          "base_uri": "https://localhost:8080/"
        },
        "id": "kX9X0sfcu42G",
        "outputId": "81e67f53-415b-47a8-cb8a-194f7f2ce454"
      },
      "outputs": [
        {
          "output_type": "execute_result",
          "data": {
            "text/plain": [
              "array([False, False, False, False,  True,  True,  True,  True,  True,\n",
              "        True])"
            ]
          },
          "metadata": {},
          "execution_count": 95
        }
      ],
      "source": [
        "arr > 4"
      ]
    },
    {
      "cell_type": "code",
      "execution_count": null,
      "metadata": {
        "id": "zJvWvqq6u42G"
      },
      "outputs": [],
      "source": [
        "bool_arr = arr > 4"
      ]
    },
    {
      "cell_type": "code",
      "execution_count": null,
      "metadata": {
        "colab": {
          "base_uri": "https://localhost:8080/"
        },
        "id": "CoNaP2b3u42G",
        "outputId": "b133633a-5dda-48a1-8346-b82bbf3244d2"
      },
      "outputs": [
        {
          "output_type": "execute_result",
          "data": {
            "text/plain": [
              "array([False, False, False, False,  True,  True,  True,  True,  True,\n",
              "        True])"
            ]
          },
          "metadata": {},
          "execution_count": 97
        }
      ],
      "source": [
        "bool_arr"
      ]
    },
    {
      "cell_type": "code",
      "execution_count": null,
      "metadata": {
        "colab": {
          "base_uri": "https://localhost:8080/"
        },
        "id": "-A4vuZHHu42R",
        "outputId": "a6c6d623-ae71-4ef3-ca33-45115e925fe8"
      },
      "outputs": [
        {
          "output_type": "execute_result",
          "data": {
            "text/plain": [
              "array([ 5,  6,  7,  8,  9, 10])"
            ]
          },
          "metadata": {},
          "execution_count": 98
        }
      ],
      "source": [
        "arr[bool_arr]"
      ]
    },
    {
      "cell_type": "code",
      "execution_count": null,
      "metadata": {
        "colab": {
          "base_uri": "https://localhost:8080/"
        },
        "id": "N03-XDUmu42R",
        "outputId": "44b935dd-b53e-46f4-8b79-6fac93247aca"
      },
      "outputs": [
        {
          "output_type": "execute_result",
          "data": {
            "text/plain": [
              "array([ 3,  4,  5,  6,  7,  8,  9, 10])"
            ]
          },
          "metadata": {},
          "execution_count": 99
        }
      ],
      "source": [
        "arr[arr > 2]"
      ]
    },
    {
      "cell_type": "code",
      "execution_count": null,
      "metadata": {
        "colab": {
          "base_uri": "https://localhost:8080/"
        },
        "id": "7tmQPh4Ou42S",
        "outputId": "70e1c67a-eac9-45ff-ac83-10d889337032"
      },
      "outputs": [
        {
          "output_type": "execute_result",
          "data": {
            "text/plain": [
              "array([ 3,  4,  5,  6,  7,  8,  9, 10])"
            ]
          },
          "metadata": {},
          "execution_count": 100
        }
      ],
      "source": [
        "x = 2\n",
        "arr[arr > x]"
      ]
    },
    {
      "cell_type": "markdown",
      "metadata": {
        "id": "hnYMmtSeu42S"
      },
      "source": [
        "# <font color='orange'> NumPy Operations </font>"
      ]
    },
    {
      "cell_type": "markdown",
      "metadata": {
        "id": "uHC1cuwYu42S"
      },
      "source": [
        "## <font color='orange'> Arithmetic </font>\n",
        "\n",
        "You can easily perform array with array arithmetic, or scalar with array arithmetic. Let's see some examples:"
      ]
    },
    {
      "cell_type": "code",
      "execution_count": null,
      "metadata": {
        "colab": {
          "base_uri": "https://localhost:8080/"
        },
        "id": "J-bdxpY5u42S",
        "outputId": "49982c75-1f30-4c58-af1d-6f20978610e1"
      },
      "outputs": [
        {
          "output_type": "stream",
          "name": "stdout",
          "text": [
            "Array1: \n",
            "[19 13 11  0 11 16  3 13  4 14]\n",
            "\n",
            "Array2: \n",
            "[34 26 39 28 38 30 30 22 29 32]\n"
          ]
        }
      ],
      "source": [
        "arr1 = np.random.randint(low=0, high=20, size=10)\n",
        "arr2 = np.random.randint(low=20, high=40, size=10)\n",
        "print(\"Array1: \")\n",
        "print(arr1)\n",
        "print()\n",
        "print(\"Array2: \")\n",
        "print(arr2)"
      ]
    },
    {
      "cell_type": "code",
      "execution_count": null,
      "metadata": {
        "colab": {
          "base_uri": "https://localhost:8080/"
        },
        "id": "GMhuuE6tu42T",
        "outputId": "6c24a713-0b50-41d3-9aa4-6842a9bd11a8"
      },
      "outputs": [
        {
          "output_type": "execute_result",
          "data": {
            "text/plain": [
              "array([53, 39, 50, 28, 49, 46, 33, 35, 33, 46])"
            ]
          },
          "metadata": {},
          "execution_count": 102
        }
      ],
      "source": [
        "arr1 + arr2"
      ]
    },
    {
      "cell_type": "code",
      "execution_count": null,
      "metadata": {
        "colab": {
          "base_uri": "https://localhost:8080/"
        },
        "id": "vueDFBp2u42T",
        "outputId": "d38f60c2-42d4-4f41-a7d6-35f58f9dae05"
      },
      "outputs": [
        {
          "output_type": "execute_result",
          "data": {
            "text/plain": [
              "array([646, 338, 429,   0, 418, 480,  90, 286, 116, 448])"
            ]
          },
          "metadata": {},
          "execution_count": 103
        }
      ],
      "source": [
        "arr1 * arr2"
      ]
    },
    {
      "cell_type": "code",
      "execution_count": null,
      "metadata": {
        "colab": {
          "base_uri": "https://localhost:8080/"
        },
        "id": "rafaIkr6u42T",
        "outputId": "af3ed2bd-1950-4709-a019-7f7ac716bf14"
      },
      "outputs": [
        {
          "output_type": "execute_result",
          "data": {
            "text/plain": [
              "array([15, 13, 28, 28, 27, 14, 27,  9, 25, 18])"
            ]
          },
          "metadata": {},
          "execution_count": 104
        }
      ],
      "source": [
        "arr2 - arr1"
      ]
    },
    {
      "cell_type": "code",
      "execution_count": null,
      "metadata": {
        "colab": {
          "base_uri": "https://localhost:8080/"
        },
        "id": "3oB73_wiu42T",
        "outputId": "1a8f3b3a-c962-4d9d-d927-ed45e85bbe57"
      },
      "outputs": [
        {
          "output_type": "stream",
          "name": "stderr",
          "text": [
            "<ipython-input-105-e0a7ed40abd1>:3: RuntimeWarning: divide by zero encountered in divide\n",
            "  arr2/arr1\n"
          ]
        },
        {
          "output_type": "execute_result",
          "data": {
            "text/plain": [
              "array([ 1.78947368,  2.        ,  3.54545455,         inf,  3.45454545,\n",
              "        1.875     , 10.        ,  1.69230769,  7.25      ,  2.28571429])"
            ]
          },
          "metadata": {},
          "execution_count": 105
        }
      ],
      "source": [
        "# Warning on division by zero, but not an error!\n",
        "# Just replaced with infinity\n",
        "arr2/arr1"
      ]
    },
    {
      "cell_type": "markdown",
      "metadata": {
        "id": "sk42Iglzu42U"
      },
      "source": [
        "## <font color='orange'> Universal Array Functions </font>\n",
        "\n",
        "Numpy comes with many [universal array functions](http://docs.scipy.org/doc/numpy/reference/ufuncs.html), which are essentially just mathematical operations you can use to perform the operation across the array. Let's show some common ones:"
      ]
    },
    {
      "cell_type": "markdown",
      "metadata": {
        "id": "e5EHk9QEl_5i"
      },
      "source": [
        "### numpy.max()\n",
        "Return the maximum of an array or maximum along an axis."
      ]
    },
    {
      "cell_type": "code",
      "execution_count": null,
      "metadata": {
        "colab": {
          "base_uri": "https://localhost:8080/"
        },
        "id": "Qw3iKR6Vu42x",
        "outputId": "d6f1ff40-3a6c-4243-9f77-22851015a90b"
      },
      "outputs": [
        {
          "output_type": "execute_result",
          "data": {
            "text/plain": [
              "9"
            ]
          },
          "metadata": {},
          "execution_count": 106
        }
      ],
      "source": [
        "arr = np.array([5, 8, 9])\n",
        "np.max(arr)"
      ]
    },
    {
      "cell_type": "code",
      "source": [
        "arr"
      ],
      "metadata": {
        "colab": {
          "base_uri": "https://localhost:8080/"
        },
        "id": "jgKWoiTt3BH4",
        "outputId": "6d0316b2-654c-4b5e-e611-98d9ff761652"
      },
      "execution_count": null,
      "outputs": [
        {
          "output_type": "execute_result",
          "data": {
            "text/plain": [
              "array([[ 5,  8,  9],\n",
              "       [ 2,  6, 15]])"
            ]
          },
          "metadata": {},
          "execution_count": 108
        }
      ]
    },
    {
      "cell_type": "code",
      "execution_count": null,
      "metadata": {
        "colab": {
          "base_uri": "https://localhost:8080/"
        },
        "id": "BdZxPY46lI0S",
        "outputId": "8826e072-a3ad-4e26-a29e-67168f9b2353"
      },
      "outputs": [
        {
          "output_type": "execute_result",
          "data": {
            "text/plain": [
              "array([ 5,  8, 15])"
            ]
          },
          "metadata": {},
          "execution_count": 107
        }
      ],
      "source": [
        "arr = np.array([[5, 8, 9],\n",
        "                [2, 6, 15]])\n",
        "np.max(arr, axis= 0)"
      ]
    },
    {
      "cell_type": "code",
      "execution_count": null,
      "metadata": {
        "colab": {
          "base_uri": "https://localhost:8080/"
        },
        "id": "JVnDUgUAlQV9",
        "outputId": "97615e2e-14a9-4078-db87-fdc3410cbd3c"
      },
      "outputs": [
        {
          "output_type": "execute_result",
          "data": {
            "text/plain": [
              "array([ 9, 15])"
            ]
          },
          "metadata": {},
          "execution_count": 109
        }
      ],
      "source": [
        "np.max(arr, axis= 1)"
      ]
    },
    {
      "cell_type": "markdown",
      "metadata": {
        "id": "DPV2NShXmTW-"
      },
      "source": [
        "### numpy.min()\n",
        "Return the minimum of an array or minimum along an axis."
      ]
    },
    {
      "cell_type": "code",
      "execution_count": null,
      "metadata": {
        "colab": {
          "base_uri": "https://localhost:8080/"
        },
        "id": "gQzS26io98SS",
        "outputId": "deaca556-4d43-47a5-b96f-ecdffe582253"
      },
      "outputs": [
        {
          "output_type": "execute_result",
          "data": {
            "text/plain": [
              "2"
            ]
          },
          "metadata": {},
          "execution_count": 113
        }
      ],
      "source": [
        "arr = np.array([[5, 8, 9],[2, 6, 15]])\n",
        "np.min(arr)"
      ]
    },
    {
      "cell_type": "code",
      "execution_count": null,
      "metadata": {
        "colab": {
          "base_uri": "https://localhost:8080/"
        },
        "id": "vfx1HJgYmu8b",
        "outputId": "8cfc4d4e-8830-454c-b7d7-0014c23d0771"
      },
      "outputs": [
        {
          "output_type": "execute_result",
          "data": {
            "text/plain": [
              "array([2, 6, 9])"
            ]
          },
          "metadata": {},
          "execution_count": 114
        }
      ],
      "source": [
        "arr = np.array([[5, 8, 9],\n",
        "                [2, 6, 15]])\n",
        "np.min(arr, axis= 0)"
      ]
    },
    {
      "cell_type": "code",
      "execution_count": null,
      "metadata": {
        "colab": {
          "base_uri": "https://localhost:8080/"
        },
        "id": "Pcx7rSDomzCI",
        "outputId": "875738d3-5f72-4fec-a485-beaaf04da415"
      },
      "outputs": [
        {
          "output_type": "execute_result",
          "data": {
            "text/plain": [
              "array([5, 2])"
            ]
          },
          "metadata": {},
          "execution_count": 115
        }
      ],
      "source": [
        "np.min(arr, axis= 1)"
      ]
    },
    {
      "cell_type": "markdown",
      "metadata": {
        "id": "RILMA8BKmGrM"
      },
      "source": [
        "### numpy.maximum()\n",
        "Element-wise maximum of array elements."
      ]
    },
    {
      "cell_type": "code",
      "execution_count": null,
      "metadata": {
        "colab": {
          "base_uri": "https://localhost:8080/"
        },
        "id": "abaU1aYQjw7A",
        "outputId": "a48362bc-7983-4da3-9c2f-3508258b8bed"
      },
      "outputs": [
        {
          "output_type": "execute_result",
          "data": {
            "text/plain": [
              "array([2, 5, 4])"
            ]
          },
          "metadata": {},
          "execution_count": 116
        }
      ],
      "source": [
        "arr1 = np.array([2, 3, 4])\n",
        "arr2 = np.array([1, 5, 2])\n",
        "np.maximum(arr1, arr2)"
      ]
    },
    {
      "cell_type": "markdown",
      "metadata": {
        "id": "cpuyO8FJm4Pi"
      },
      "source": [
        "### numpy.minimum()\n",
        "Element-wise minimum of array elements."
      ]
    },
    {
      "cell_type": "code",
      "execution_count": null,
      "metadata": {
        "colab": {
          "base_uri": "https://localhost:8080/"
        },
        "id": "FAdtuGstm-GA",
        "outputId": "f55e74e8-3eba-4f3f-d2c1-fc21ced133d0"
      },
      "outputs": [
        {
          "output_type": "execute_result",
          "data": {
            "text/plain": [
              "array([1, 3, 2])"
            ]
          },
          "metadata": {},
          "execution_count": 117
        }
      ],
      "source": [
        "arr1 = np.array([2, 3, 4])\n",
        "arr2 = np.array([1, 5, 2])\n",
        "np.minimum(arr1, arr2)"
      ]
    },
    {
      "cell_type": "markdown",
      "metadata": {
        "id": "DwaUwNcU_jG-"
      },
      "source": [
        "### numpy.argmax()\n",
        "Returns the indices of the maximum values along an axis."
      ]
    },
    {
      "cell_type": "code",
      "execution_count": null,
      "metadata": {
        "colab": {
          "base_uri": "https://localhost:8080/"
        },
        "id": "qh7DG1xL_5cH",
        "outputId": "f0bcba32-372d-4415-eec6-e0db51c9b49b"
      },
      "outputs": [
        {
          "output_type": "execute_result",
          "data": {
            "text/plain": [
              "3"
            ]
          },
          "metadata": {},
          "execution_count": 118
        }
      ],
      "source": [
        "arr = np.array([4, 8, 9, 14, 2])\n",
        "\n",
        "np.argmax(arr)"
      ]
    },
    {
      "cell_type": "code",
      "execution_count": null,
      "metadata": {
        "colab": {
          "base_uri": "https://localhost:8080/"
        },
        "id": "nNFD83ksAN4b",
        "outputId": "9edd086d-879e-4861-c44d-9e0fd3749772"
      },
      "outputs": [
        {
          "output_type": "execute_result",
          "data": {
            "text/plain": [
              "array([1, 0, 1])"
            ]
          },
          "metadata": {},
          "execution_count": 119
        }
      ],
      "source": [
        "arr = np.array([[10, 14, 12],\n",
        "                [13, 11, 15]])\n",
        "\n",
        "np.argmax(arr, axis = 0)"
      ]
    },
    {
      "cell_type": "markdown",
      "metadata": {
        "id": "KA06WdUf_l1l"
      },
      "source": [
        "### numpy.argmin()\n",
        "Returns the indices of the minimum values along an axis."
      ]
    },
    {
      "cell_type": "code",
      "execution_count": null,
      "metadata": {
        "colab": {
          "base_uri": "https://localhost:8080/"
        },
        "id": "PtG5HWKI_6Cm",
        "outputId": "946df741-3e5a-460f-8313-e76fa2cb1781"
      },
      "outputs": [
        {
          "output_type": "execute_result",
          "data": {
            "text/plain": [
              "4"
            ]
          },
          "metadata": {},
          "execution_count": 120
        }
      ],
      "source": [
        "arr = np.array([4, 8, 9, 14, 2])\n",
        "\n",
        "np.argmin(arr)"
      ]
    },
    {
      "cell_type": "code",
      "execution_count": null,
      "metadata": {
        "colab": {
          "base_uri": "https://localhost:8080/"
        },
        "id": "qxvJaKTqAwB3",
        "outputId": "3ac96423-d18f-4b69-ede6-135b5c71d884"
      },
      "outputs": [
        {
          "output_type": "execute_result",
          "data": {
            "text/plain": [
              "array([0, 1, 0])"
            ]
          },
          "metadata": {},
          "execution_count": 121
        }
      ],
      "source": [
        "arr = np.array([[10, 14, 12],\n",
        "               [13, 11, 15]])\n",
        "\n",
        "np.argmin(arr, axis = 0)"
      ]
    },
    {
      "cell_type": "code",
      "execution_count": null,
      "metadata": {
        "colab": {
          "base_uri": "https://localhost:8080/"
        },
        "id": "CuYPniJRAwJ9",
        "outputId": "e260d58d-d3aa-4d09-cebb-d15ec154d4d5"
      },
      "outputs": [
        {
          "output_type": "execute_result",
          "data": {
            "text/plain": [
              "array([0, 1])"
            ]
          },
          "metadata": {},
          "execution_count": 122
        }
      ],
      "source": [
        "np.argmin(arr, axis = 1)"
      ]
    },
    {
      "cell_type": "markdown",
      "metadata": {
        "id": "k4-TZ1ponISe"
      },
      "source": [
        "### numpy.sum()\n",
        "Sum of array elements over a given axis."
      ]
    },
    {
      "cell_type": "code",
      "execution_count": null,
      "metadata": {
        "id": "ITLWZ-fK9W04"
      },
      "outputs": [],
      "source": [
        "arr = np.array([[5, 7, 9],\n",
        "                [4, 8, 12]])\n",
        "\n",
        "np.sum(arr, axis = 0)"
      ]
    },
    {
      "cell_type": "code",
      "execution_count": null,
      "metadata": {
        "id": "TtI7kTjNnZXC"
      },
      "outputs": [],
      "source": [
        "np.sum(arr, axis = 1)"
      ]
    },
    {
      "cell_type": "markdown",
      "metadata": {
        "id": "p9Qn4KSYn136"
      },
      "source": [
        "### numpy.mean()\n",
        "Compute the arithmetic mean along the specified axis."
      ]
    },
    {
      "cell_type": "code",
      "execution_count": null,
      "metadata": {
        "id": "jKj4zjk995Of"
      },
      "outputs": [],
      "source": [
        "arr = np.array([[5, 7, 9],\n",
        "                [4, 8, 12]])\n",
        "\n",
        "np.mean(arr, axis = 0)"
      ]
    },
    {
      "cell_type": "code",
      "execution_count": null,
      "metadata": {
        "id": "zucemtkioIxR"
      },
      "outputs": [],
      "source": [
        "np.mean(arr, axis = 1)"
      ]
    },
    {
      "cell_type": "markdown",
      "metadata": {
        "id": "dFk9Cnq2BZfx"
      },
      "source": [
        "### numpy.prod()\n",
        "Return the product of array elements over a given axis."
      ]
    },
    {
      "cell_type": "code",
      "execution_count": null,
      "metadata": {
        "id": "3-DXKyO0_2Lw"
      },
      "outputs": [],
      "source": [
        "arr1 = np.array([6,2,3])\n",
        "print(np.prod(arr1))"
      ]
    },
    {
      "cell_type": "code",
      "execution_count": null,
      "metadata": {
        "id": "jMgFRuP_BgL3"
      },
      "outputs": [],
      "source": [
        "arr = np.array([[1., 2.],\n",
        "                [3., 4.]])\n",
        "\n",
        "np.prod(arr, axis=1)"
      ]
    },
    {
      "cell_type": "markdown",
      "metadata": {
        "id": "SwIPbTjvCIBz"
      },
      "source": [
        "### numpy.sqrt()\n",
        "Return the non-negative square-root of an array, element-wise."
      ]
    },
    {
      "cell_type": "code",
      "execution_count": null,
      "metadata": {
        "id": "2kQ1c__Ku42U"
      },
      "outputs": [],
      "source": [
        "arr = np.array([4, 36, 12, 49])\n",
        "np.sqrt(arr)"
      ]
    },
    {
      "cell_type": "markdown",
      "metadata": {
        "id": "CDNLNLYzCbTR"
      },
      "source": [
        "### numpy.exp()\n",
        "Calculate the exponential of all elements in the input array."
      ]
    },
    {
      "cell_type": "code",
      "execution_count": null,
      "metadata": {
        "id": "rIVaybbDu42V"
      },
      "outputs": [],
      "source": [
        "np.exp(arr)"
      ]
    },
    {
      "cell_type": "markdown",
      "metadata": {
        "id": "9gTXYS7WChQx"
      },
      "source": [
        "### numpy.sin()\n",
        "Trigonometric sine, element-wise."
      ]
    },
    {
      "cell_type": "code",
      "execution_count": null,
      "metadata": {
        "id": "NcoBPrt-u42y"
      },
      "outputs": [],
      "source": [
        "np.sin(arr)"
      ]
    },
    {
      "cell_type": "markdown",
      "metadata": {
        "id": "qgtv_HbxuDIX"
      },
      "source": [
        "### numpy.log()\n",
        "Natural logarithm, element-wise."
      ]
    },
    {
      "cell_type": "code",
      "execution_count": null,
      "metadata": {
        "id": "KeOlBGpxu42y"
      },
      "outputs": [],
      "source": [
        "arr = np.array([2.3, 4.5, 6])\n",
        "np.log(arr)"
      ]
    },
    {
      "cell_type": "markdown",
      "metadata": {
        "id": "DKqkUTS1JcWv"
      },
      "source": [
        "### numpy.floor\n",
        "Return the floor of the input, element-wise.<br>\n",
        "Returns largest integer less than or equal to a given number."
      ]
    },
    {
      "cell_type": "code",
      "execution_count": null,
      "metadata": {
        "id": "cXjbU3yeJcWv"
      },
      "outputs": [],
      "source": [
        "arr = np.array([2.5, 6.3, 4.9, 5.0, 6.8])\n",
        "np.floor(arr)"
      ]
    },
    {
      "cell_type": "markdown",
      "metadata": {
        "id": "XBX2BqmfJcWw"
      },
      "source": [
        "### numpy.ceil\n",
        "\n",
        "Return the ceiling of the input, element-wise.<br>\n",
        "Return the smallest integer value that is greater than or equal to a number."
      ]
    },
    {
      "cell_type": "code",
      "execution_count": null,
      "metadata": {
        "id": "pXS5eSTJJcWw"
      },
      "outputs": [],
      "source": [
        "arr = np.array([2.5, 6.3, 4.9, 5.0, 6.8])\n",
        "np.ceil(arr)"
      ]
    },
    {
      "cell_type": "markdown",
      "metadata": {
        "id": "v4GUCdQVsIkG"
      },
      "source": [
        "## <font color='orange'> Numpy Linear algebra operations </font>\n"
      ]
    },
    {
      "cell_type": "markdown",
      "metadata": {
        "id": "k1mtiKsR3CK2"
      },
      "source": [
        "### numpy.dot()\n",
        "Computes Dot product of two arrays.\n"
      ]
    },
    {
      "cell_type": "code",
      "execution_count": null,
      "metadata": {
        "id": "glMhIGDgsdj5"
      },
      "outputs": [],
      "source": [
        "# If both a and b are 1-D arrays, it is inner product of vectors.\n",
        "arr1 = np.array([1, 2, 3])\n",
        "arr2 = np.array([4, 5, 6])\n",
        "np.dot(a= arr1, b= arr2) # (4*1) + (2*5) + (3*6)"
      ]
    },
    {
      "cell_type": "code",
      "execution_count": null,
      "metadata": {
        "id": "Oo5LvQPa4ZWI"
      },
      "outputs": [],
      "source": [
        "# If both a and b are 2-D arrays, it is matrix multiplication, but using matmul is preferred.\n",
        "arr1 = np.array([[1, 2, 3],\n",
        "                 [4, 5, 6]])\n",
        "\n",
        "arr2 = np.array([[7, 5],\n",
        "                 [4, 8],\n",
        "                 [4, 1]])\n",
        "\n",
        "np.dot(a= arr1, b=arr2)"
      ]
    },
    {
      "cell_type": "code",
      "execution_count": null,
      "metadata": {
        "id": "BOY5b59e44RA"
      },
      "outputs": [],
      "source": [
        "# If either a or b is 0-D (scalar), it is equivalent to multiply and using numpy.multiply(a, b) or a * b is preferred.\n",
        "arr1 = np.array([[1, 2],\n",
        "                 [3, 4]])\n",
        "x = 4\n",
        "np.dot(a=arr1, b=x)"
      ]
    },
    {
      "cell_type": "code",
      "execution_count": null,
      "metadata": {
        "id": "7cZg-gl4JcWx"
      },
      "outputs": [],
      "source": [
        "# If a is an N-D array and b is a 1-D array, it is a sum product over the last axis of a and b.\n",
        "arr1 = np.array([[1,2,3],\n",
        "                 [4,5,6],\n",
        "                 [7,8,9]])\n",
        "\n",
        "arr2 = np.array([1,2,3])\n",
        "\n",
        "np.dot(a= arr1, b= arr2)"
      ]
    },
    {
      "cell_type": "markdown",
      "metadata": {
        "id": "yMgzLAX260Ru"
      },
      "source": [
        "### numpy.matmul()\n",
        "Matrix product of two arrays."
      ]
    },
    {
      "cell_type": "code",
      "execution_count": null,
      "metadata": {
        "id": "OV3uar1P65md"
      },
      "outputs": [],
      "source": [
        "a = np.array([[1, 0],\n",
        "              [0, 1]])\n",
        "\n",
        "b = np.array([[4, 1],\n",
        "              [2, 2]])\n",
        "\n",
        "np.matmul(a, b)"
      ]
    },
    {
      "cell_type": "markdown",
      "metadata": {
        "id": "7HeaVWbpBU_h"
      },
      "source": [
        "### numpy.transpose()\n",
        "Reverse or permute the axes of an array.<br>\n",
        "For an array a with two axes, transpose(a) gives the matrix transpose."
      ]
    },
    {
      "cell_type": "code",
      "execution_count": null,
      "metadata": {
        "id": "y01UZRwxBaqv"
      },
      "outputs": [],
      "source": [
        "x = np.arange(4).reshape((2,2))\n",
        "x"
      ]
    },
    {
      "cell_type": "code",
      "execution_count": null,
      "metadata": {
        "id": "d9KJcSniBa7t"
      },
      "outputs": [],
      "source": [
        "np.transpose(x)"
      ]
    },
    {
      "cell_type": "code",
      "execution_count": null,
      "metadata": {
        "id": "3xPnUpnXJcWy"
      },
      "outputs": [],
      "source": [
        "x = np.ones((1, 2, 3))\n",
        "x"
      ]
    },
    {
      "cell_type": "code",
      "execution_count": null,
      "metadata": {
        "id": "qp9qKVPpJcWz"
      },
      "outputs": [],
      "source": [
        "x_transposed = np.transpose(x, axes = (1, 0, 2))\n",
        "\n",
        "print(x_transposed.shape)\n",
        "\n",
        "x_transposed"
      ]
    },
    {
      "cell_type": "markdown",
      "metadata": {
        "id": "xZiP-Zi5JcWz"
      },
      "source": [
        "## <font color='orange'> Numpy Binary Operations </font>"
      ]
    },
    {
      "cell_type": "markdown",
      "metadata": {
        "id": "k6_d4M1DJcWz"
      },
      "source": [
        "**Binary Representations-**<br>\n",
        "33 = 100001 <br>\n",
        " 1  = 000001    \n",
        "\n",
        "4 = 100<br>\n",
        "2 = 010"
      ]
    },
    {
      "cell_type": "markdown",
      "metadata": {
        "id": "hXuDx6HjJcWz"
      },
      "source": [
        "### numpy.bitwise_or\n",
        "Compute the bit-wise OR of two arrays element-wise."
      ]
    },
    {
      "cell_type": "code",
      "execution_count": null,
      "metadata": {
        "id": "NEvrkXEQJcW0"
      },
      "outputs": [],
      "source": [
        "arr1 = np.array([33, 4])\n",
        "arr2 = np.array([1,  2])\n",
        "\n",
        "np.bitwise_or(arr1, arr2)"
      ]
    },
    {
      "cell_type": "markdown",
      "metadata": {
        "id": "_3C6SqZtJcW0"
      },
      "source": [
        "### numpy.bitwise_and\n",
        "Compute the bit-wise AND of two arrays element-wise."
      ]
    },
    {
      "cell_type": "code",
      "execution_count": null,
      "metadata": {
        "id": "eznFneIVJcW0"
      },
      "outputs": [],
      "source": [
        "arr1 = np.array([33, 4])\n",
        "arr2 = np.array([1,  2])\n",
        "\n",
        "np.bitwise_and(arr1, arr2)"
      ]
    },
    {
      "cell_type": "markdown",
      "metadata": {
        "id": "O_sEPZzuJcW0"
      },
      "source": [
        "## <font color='orange'> Numpy Logic Functions </font>"
      ]
    },
    {
      "cell_type": "markdown",
      "metadata": {
        "id": "hzaiDNKeJcW0"
      },
      "source": [
        "### numpy.all\n",
        "Test whether all array elements along a given axis evaluate to True."
      ]
    },
    {
      "cell_type": "code",
      "execution_count": null,
      "metadata": {
        "id": "A_LvTrhrJcW1"
      },
      "outputs": [],
      "source": [
        "np.all([[True,False],\n",
        "        [True,True]], axis=0)"
      ]
    },
    {
      "cell_type": "markdown",
      "metadata": {
        "id": "tEYdMaNkJcW1"
      },
      "source": [
        "### numpy.any\n",
        "Test whether any array element along a given axis evaluates to True."
      ]
    },
    {
      "cell_type": "code",
      "execution_count": null,
      "metadata": {
        "id": "NZ0Wrc12JcW1"
      },
      "outputs": [],
      "source": [
        "np.any([[True, False],\n",
        "        [False, False]], axis=0)"
      ]
    },
    {
      "cell_type": "markdown",
      "metadata": {
        "id": "jgW-5MzhJcW2"
      },
      "source": [
        "### numpy.equal\n",
        "Return (x1 == x2) element-wise."
      ]
    },
    {
      "cell_type": "code",
      "execution_count": null,
      "metadata": {
        "id": "h-G9Y2WFJcW2"
      },
      "outputs": [],
      "source": [
        "a = np.array([2, 4, 6])\n",
        "\n",
        "b = np.array([2, 4, 2])\n",
        "\n",
        "np.equal(a,b)"
      ]
    },
    {
      "cell_type": "markdown",
      "metadata": {
        "id": "-mw14V4-JcW2"
      },
      "source": [
        "### numpy.greater\n",
        "Return the truth value of (x1 > x2) element-wise."
      ]
    },
    {
      "cell_type": "code",
      "execution_count": null,
      "metadata": {
        "id": "TjttLZn8JcW3"
      },
      "outputs": [],
      "source": [
        "a = np.array([4, 8, 9])\n",
        "b = np.array([1, 78, 23])\n",
        "\n",
        "np.greater(a, b)"
      ]
    },
    {
      "cell_type": "markdown",
      "metadata": {
        "id": "QEdaIKl5sOvY"
      },
      "source": [
        "## <font color='orange'> Saving and Loading NumPy objects </font>\n"
      ]
    },
    {
      "cell_type": "markdown",
      "metadata": {
        "id": "rbADywAJydyE"
      },
      "source": [
        "### numpy.save()\n",
        "Save an array to a binary file in NumPy .npy format."
      ]
    },
    {
      "cell_type": "code",
      "execution_count": null,
      "metadata": {
        "id": "dp9POsoAseKc"
      },
      "outputs": [],
      "source": [
        "arr1 = np.arange(10)\n",
        "outfile = 'data/my_arr.npy'"
      ]
    },
    {
      "cell_type": "code",
      "execution_count": null,
      "metadata": {
        "id": "7jSIx1eIzf9a"
      },
      "outputs": [],
      "source": [
        "np.save(file=outfile, arr=arr1)"
      ]
    },
    {
      "cell_type": "markdown",
      "metadata": {
        "id": "dnoov0KMzKLs"
      },
      "source": [
        "### numpy.load()\n",
        "Load arrays from .npy files"
      ]
    },
    {
      "cell_type": "code",
      "execution_count": null,
      "metadata": {
        "id": "ZnN1AM-Y0z7-"
      },
      "outputs": [],
      "source": [
        "loaded_arr = np.load(file= outfile)\n",
        "loaded_arr"
      ]
    },
    {
      "cell_type": "markdown",
      "metadata": {
        "id": "zpvUjAXQ7-hE"
      },
      "source": [
        "## <font color='orange'> Miscellaneous </font>\n"
      ]
    },
    {
      "cell_type": "markdown",
      "metadata": {
        "id": "UYhF5x9uEXQp"
      },
      "source": [
        "### numpy.sort()\n",
        "\n",
        "Return a sorted copy of an array."
      ]
    },
    {
      "cell_type": "code",
      "execution_count": null,
      "metadata": {
        "id": "8LMRxCF4EgRV"
      },
      "outputs": [],
      "source": [
        "arr = np.array([[1,4],\n",
        "               [3,1]])\n",
        "\n",
        "np.sort(arr, axis = -1)  # sort along the last axis"
      ]
    },
    {
      "cell_type": "markdown",
      "metadata": {
        "id": "pNc8SLqeCUEW"
      },
      "source": [
        "### numpy.stack()\n",
        "Join a sequence of arrays along a new axis.<br>\n",
        "The axis parameter specifies the index of the new axis in the dimensions of the result."
      ]
    },
    {
      "cell_type": "code",
      "execution_count": null,
      "metadata": {
        "id": "6qaMVZiDCaIz"
      },
      "outputs": [],
      "source": [
        "arrays = [np.random.randn(3, 4) for i in range(10)]\n",
        "\n",
        "np.stack(arrays, axis=0).shape"
      ]
    },
    {
      "cell_type": "code",
      "execution_count": null,
      "metadata": {
        "id": "ZN-eaXByCje6"
      },
      "outputs": [],
      "source": [
        "np.stack(arrays, axis=1).shape"
      ]
    },
    {
      "cell_type": "code",
      "execution_count": null,
      "metadata": {
        "id": "QaBOqjsbDHEx"
      },
      "outputs": [],
      "source": [
        "np.stack(arrays, axis=2).shape"
      ]
    },
    {
      "cell_type": "markdown",
      "metadata": {
        "id": "F9HzYy6c8X7-"
      },
      "source": [
        "### numpy.hstack()\n",
        "Stack arrays in sequence horizontally (column wise)."
      ]
    },
    {
      "cell_type": "code",
      "execution_count": null,
      "metadata": {
        "id": "tuoG9LV19KJ1"
      },
      "outputs": [],
      "source": [
        "a = np.array([1,2,3])\n",
        "\n",
        "b = np.array([4,5,6])\n",
        "\n",
        "np.hstack((a,b))"
      ]
    },
    {
      "cell_type": "code",
      "execution_count": null,
      "metadata": {
        "id": "qqa_avMn8qIK"
      },
      "outputs": [],
      "source": [
        "a = np.array([[1],[2],[3]])\n",
        "\n",
        "b = np.array([[4],[5],[6]])\n",
        "\n",
        "np.hstack((a,b))"
      ]
    },
    {
      "cell_type": "markdown",
      "metadata": {
        "id": "Gl_f_m1R8tv4"
      },
      "source": [
        "### numpy.vstack()\n",
        "Stack arrays in sequence vertically (row wise)."
      ]
    },
    {
      "cell_type": "code",
      "execution_count": null,
      "metadata": {
        "id": "tMKglBuZ9Bxe"
      },
      "outputs": [],
      "source": [
        "a = np.array([1, 2, 3])\n",
        "\n",
        "b = np.array([4, 5, 6])\n",
        "\n",
        "np.vstack((a,b))"
      ]
    },
    {
      "cell_type": "code",
      "execution_count": null,
      "metadata": {
        "id": "0_Lgn-SN81oQ"
      },
      "outputs": [],
      "source": [
        "a = np.array([[1], [2], [3]])\n",
        "\n",
        "b = np.array([[4], [5], [6]])\n",
        "\n",
        "np.vstack((a,b))"
      ]
    },
    {
      "cell_type": "markdown",
      "metadata": {
        "id": "TbaIpgCsAIi9"
      },
      "source": [
        "### numpy.squeeze()\n",
        "Remove axes of length one from array."
      ]
    },
    {
      "cell_type": "code",
      "execution_count": null,
      "metadata": {
        "colab": {
          "base_uri": "https://localhost:8080/"
        },
        "id": "25EJItqLASnM",
        "outputId": "4a52789b-4920-4ee8-a23f-5497ebb46b6a"
      },
      "outputs": [
        {
          "output_type": "execute_result",
          "data": {
            "text/plain": [
              "(1, 3)"
            ]
          },
          "metadata": {},
          "execution_count": 123
        }
      ],
      "source": [
        "arr = np.array([[1., 2., 3.]])\n",
        "arr.shape"
      ]
    },
    {
      "cell_type": "code",
      "execution_count": null,
      "metadata": {
        "colab": {
          "base_uri": "https://localhost:8080/"
        },
        "id": "oFOer5TOAa9B",
        "outputId": "d9b491cd-6685-4148-a960-5760d923aaa6"
      },
      "outputs": [
        {
          "output_type": "execute_result",
          "data": {
            "text/plain": [
              "array([1., 2., 3.])"
            ]
          },
          "metadata": {},
          "execution_count": 125
        }
      ],
      "source": [
        "np.squeeze(arr)#.shape"
      ]
    },
    {
      "cell_type": "code",
      "execution_count": null,
      "metadata": {
        "id": "Z8MjJ5r6ArWe"
      },
      "outputs": [],
      "source": [
        "# If an axis is selected with shape entry greater than one, an error is raised.\n",
        "np.squeeze(arr, axis=1).shape"
      ]
    },
    {
      "cell_type": "markdown",
      "metadata": {
        "id": "gR6L4-9xDJ50"
      },
      "source": [
        "### numpy.concatenate()\n",
        "Join a sequence of arrays along an existing axis.<br>\n",
        "The arrays must have the same shape, except in the dimension corresponding to axis (the first, by default)."
      ]
    },
    {
      "cell_type": "code",
      "execution_count": null,
      "metadata": {
        "id": "VE8udtGsDYc_"
      },
      "outputs": [],
      "source": [
        "a = np.array([[1, 2],\n",
        "              [3, 4]])\n",
        "\n",
        "b = np.array([[5, 6]])\n",
        "\n",
        "print(a.shape)\n",
        "print(b.shape)\n",
        "\n",
        "np.concatenate((a, b), axis=0)"
      ]
    },
    {
      "cell_type": "markdown",
      "metadata": {
        "id": "Nk8HrONIHjmx"
      },
      "source": [
        "### numpy.expand_dims()\n",
        "Expand the shape of an array.<br>\n",
        "\n",
        "Insert a new axis that will appear at the axis position in the expanded array shape."
      ]
    },
    {
      "cell_type": "code",
      "execution_count": null,
      "metadata": {
        "id": "lASW3kHwHth9"
      },
      "outputs": [],
      "source": [
        "arr = np.array([1, 2])\n",
        "print(arr.shape)\n",
        "arr"
      ]
    },
    {
      "cell_type": "code",
      "execution_count": null,
      "metadata": {
        "id": "OY2VCekuH0Ny"
      },
      "outputs": [],
      "source": [
        "expanded_arr = np.expand_dims(arr, axis=0)\n",
        "print(expanded_arr.shape)\n",
        "expanded_arr"
      ]
    },
    {
      "cell_type": "markdown",
      "metadata": {
        "id": "-MEz0QwxJcXA"
      },
      "source": [
        "## <font color='orange'> Integration of OOPS with NumPy </font>"
      ]
    },
    {
      "cell_type": "code",
      "execution_count": null,
      "metadata": {
        "id": "vN_iYQEtJcXA"
      },
      "outputs": [],
      "source": [
        "class NumPyOperations:\n",
        "\n",
        "    def __init__(self, arr):\n",
        "        self.arr = arr\n",
        "\n",
        "    def add(self, array2):\n",
        "        array_sum = np.add(self.arr, array2)\n",
        "        return array_sum\n",
        "\n",
        "    def subtract(self, array2):\n",
        "        array_sub = np.subtract(self.arr, array2)\n",
        "        return array_sub\n",
        "\n",
        "    def multiply(self, array2):\n",
        "        array_mul = np.multiply(self.arr, array2)\n",
        "        return array_mul\n",
        "\n",
        "    def divide(self, array2):\n",
        "        array_div = np.divide(self.arr, array2)\n",
        "        return array_div"
      ]
    },
    {
      "cell_type": "code",
      "execution_count": null,
      "metadata": {
        "id": "72TwPJWyJcXA"
      },
      "outputs": [],
      "source": [
        "arr1 = np.arange(0,10)\n",
        "obj1 = NumPyOperations(arr1)"
      ]
    },
    {
      "cell_type": "code",
      "execution_count": null,
      "metadata": {
        "id": "72VL4M4tJcXA"
      },
      "outputs": [],
      "source": [
        "obj1.arr"
      ]
    },
    {
      "cell_type": "code",
      "execution_count": null,
      "metadata": {
        "id": "j3P3a_v8JcXB"
      },
      "outputs": [],
      "source": [
        "arr2 = np.arange(10,20)\n",
        "obj2 = NumPyOperations(arr2)"
      ]
    },
    {
      "cell_type": "code",
      "execution_count": null,
      "metadata": {
        "id": "D1X271xqJcXB"
      },
      "outputs": [],
      "source": [
        "obj1.arr"
      ]
    },
    {
      "cell_type": "code",
      "execution_count": null,
      "metadata": {
        "id": "HRrA4uy1JcXB"
      },
      "outputs": [],
      "source": [
        "obj2.arr"
      ]
    },
    {
      "cell_type": "code",
      "execution_count": null,
      "metadata": {
        "id": "3CrPI5yZJcXB"
      },
      "outputs": [],
      "source": [
        "obj1.add(arr2)"
      ]
    },
    {
      "cell_type": "code",
      "execution_count": null,
      "metadata": {
        "id": "UhkkSfV6JcXC"
      },
      "outputs": [],
      "source": [
        "obj1.subtract(arr2)"
      ]
    },
    {
      "cell_type": "code",
      "execution_count": null,
      "metadata": {
        "id": "9aQbi2RcJcXC"
      },
      "outputs": [],
      "source": [
        "obj1.multiply(arr2)"
      ]
    },
    {
      "cell_type": "code",
      "execution_count": null,
      "metadata": {
        "id": "wHABQpVgJcXC"
      },
      "outputs": [],
      "source": [
        "obj1.divide(arr2)"
      ]
    },
    {
      "cell_type": "markdown",
      "metadata": {
        "id": "j7UgBe-xJcXC"
      },
      "source": [
        "### <font color='green'>That's all for Numpy!</font>"
      ]
    }
  ],
  "metadata": {
    "colab": {
      "provenance": [],
      "include_colab_link": true
    },
    "kernelspec": {
      "display_name": "Python 3 (ipykernel)",
      "language": "python",
      "name": "python3"
    },
    "language_info": {
      "codemirror_mode": {
        "name": "ipython",
        "version": 3
      },
      "file_extension": ".py",
      "mimetype": "text/x-python",
      "name": "python",
      "nbconvert_exporter": "python",
      "pygments_lexer": "ipython3",
      "version": "3.7.4"
    }
  },
  "nbformat": 4,
  "nbformat_minor": 0
}